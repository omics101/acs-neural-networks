{
 "cells": [
  {
   "cell_type": "markdown",
   "metadata": {},
   "source": [
    "## use PyTorch to build CNN model"
   ]
  },
  {
   "cell_type": "code",
   "execution_count": 1,
   "metadata": {},
   "outputs": [],
   "source": [
    "import matplotlib.pyplot as plt\n",
    "import torch\n",
    "import torch.nn as nn\n",
    "import torch.optim as optim\n",
    "from torchvision import datasets, transforms"
   ]
  },
  {
   "cell_type": "code",
   "execution_count": 2,
   "metadata": {},
   "outputs": [],
   "source": [
    "# define the CNN model with 3 CNN layers and 2 FCN layers\n",
    "class CustomCNN(nn.Module):\n",
    "    def __init__(self):\n",
    "        super(CustomCNN, self).__init__()\n",
    "        self.conv1 = nn.Conv2d(3, 32, 3, padding=1)  # 32 filters, 3x3 kernel\n",
    "        self.conv2 = nn.Conv2d(32, 64, 3, padding=1)  # 64 filters, 3x3 kernel\n",
    "        self.conv3 = nn.Conv2d(64, 128, 3, padding=1)  # 128 filters, 3x3 kernel\n",
    "        self.pool = nn.MaxPool2d(2, 2)\n",
    "        self.fc1 = nn.Linear(128 * 4 * 4, 256)\n",
    "        self.fc2 = nn.Linear(256, 10)\n",
    "        self.relu = nn.ReLU()\n",
    "\n",
    "    def forward(self, x):\n",
    "        x = self.relu(self.conv1(x))\n",
    "        x = self.pool(x)\n",
    "        x = self.relu(self.conv2(x))\n",
    "        x = self.pool(x)\n",
    "        x = self.relu(self.conv3(x))\n",
    "        x = self.pool(x)\n",
    "        x = x.view(-1, 128 * 4 * 4)\n",
    "        x = self.relu(self.fc1(x))\n",
    "        x = self.fc2(x)\n",
    "        return x"
   ]
  },
  {
   "cell_type": "code",
   "execution_count": 3,
   "metadata": {},
   "outputs": [],
   "source": [
    "# train the model\n",
    "def train_model(model, device, trainloader, criterion, optimizer):\n",
    "    model.train()\n",
    "    total_loss = 0\n",
    "    for data in trainloader:\n",
    "        inputs, labels = data\n",
    "        inputs, labels = inputs.to(device), labels.to(device)\n",
    "\n",
    "        optimizer.zero_grad()\n",
    "\n",
    "        outputs = model(inputs)\n",
    "        loss = criterion(outputs, labels)\n",
    "\n",
    "        loss.backward()\n",
    "        optimizer.step()\n",
    "\n",
    "        total_loss += loss.item()\n",
    "\n",
    "    avg_loss = total_loss / len(trainloader)\n",
    "    return avg_loss"
   ]
  },
  {
   "cell_type": "code",
   "execution_count": 4,
   "metadata": {},
   "outputs": [],
   "source": [
    "# test the model\n",
    "def test_model(model, device, testloader, criterion):\n",
    "    model.eval()\n",
    "    total_loss = 0\n",
    "    correct = 0\n",
    "    total = 0\n",
    "    with torch.no_grad():\n",
    "        for data in testloader:\n",
    "            inputs, labels = data\n",
    "            inputs, labels = inputs.to(device), labels.to(device)\n",
    "\n",
    "            outputs = model(inputs)\n",
    "            loss = criterion(outputs, labels)\n",
    "\n",
    "            total_loss += loss.item()\n",
    "            _, predicted = torch.max(outputs.data, 1)\n",
    "            total += labels.size(0)\n",
    "            correct += (predicted == labels).sum().item()\n",
    "\n",
    "    avg_loss = total_loss / len(testloader)\n",
    "    accuracy = correct / total\n",
    "    return avg_loss, accuracy"
   ]
  },
  {
   "cell_type": "code",
   "execution_count": 5,
   "metadata": {},
   "outputs": [],
   "source": [
    "# define the transformations to be applied to the images\n",
    "transform = transforms.Compose([\n",
    "    transforms.ToTensor(),\n",
    "    transforms.Normalize((0.5, 0.5, 0.5), (0.5, 0.5, 0.5))\n",
    "])"
   ]
  },
  {
   "cell_type": "code",
   "execution_count": 6,
   "metadata": {},
   "outputs": [
    {
     "name": "stdout",
     "output_type": "stream",
     "text": [
      "Files already downloaded and verified\n",
      "Files already downloaded and verified\n"
     ]
    }
   ],
   "source": [
    "# load the CIFAR-10 dataset and apply the transformations\n",
    "trainset = datasets.CIFAR10(root='./data', train=True, download=True, transform=transform)\n",
    "testset = datasets.CIFAR10(root='./data', train=False, download=True, transform=transform)"
   ]
  },
  {
   "cell_type": "code",
   "execution_count": 7,
   "metadata": {},
   "outputs": [],
   "source": [
    "# create data loaders for training and testing\n",
    "trainloader = torch.utils.data.DataLoader(trainset, batch_size=64, shuffle=True)\n",
    "testloader = torch.utils.data.DataLoader(testset, batch_size=64, shuffle=False)"
   ]
  },
  {
   "cell_type": "code",
   "execution_count": 8,
   "metadata": {},
   "outputs": [
    {
     "name": "stdout",
     "output_type": "stream",
     "text": [
      "Using device: cuda\n"
     ]
    }
   ],
   "source": [
    "# create the model, loss function, and optimizer\n",
    "model = CustomCNN()\n",
    "device = torch.device('cuda' if torch.cuda.is_available() else 'cpu')\n",
    "print('Using device:', device)\n",
    "model.to(device)\n",
    "criterion = nn.CrossEntropyLoss()\n",
    "optimizer = optim.SGD(model.parameters(), lr=0.001, momentum=0.9)"
   ]
  },
  {
   "cell_type": "code",
   "execution_count": 9,
   "metadata": {},
   "outputs": [
    {
     "name": "stdout",
     "output_type": "stream",
     "text": [
      "Epoch 1/30: train loss=2.2672, test loss=2.1200, test accuracy=0.2544\n",
      "Epoch 2/30: train loss=1.9263, test loss=1.7722, test accuracy=0.3588\n",
      "Epoch 3/30: train loss=1.6710, test loss=1.5719, test accuracy=0.4294\n",
      "Epoch 4/30: train loss=1.5039, test loss=1.4565, test accuracy=0.4760\n",
      "Epoch 5/30: train loss=1.4028, test loss=1.3367, test accuracy=0.5200\n",
      "Epoch 6/30: train loss=1.3229, test loss=1.2671, test accuracy=0.5420\n",
      "Epoch 7/30: train loss=1.2497, test loss=1.2089, test accuracy=0.5649\n",
      "Epoch 8/30: train loss=1.1843, test loss=1.1430, test accuracy=0.5929\n",
      "Epoch 9/30: train loss=1.1191, test loss=1.0928, test accuracy=0.6135\n",
      "Epoch 10/30: train loss=1.0609, test loss=1.0564, test accuracy=0.6267\n",
      "Epoch 11/30: train loss=1.0118, test loss=1.0179, test accuracy=0.6406\n",
      "Epoch 12/30: train loss=0.9575, test loss=0.9655, test accuracy=0.6612\n",
      "Epoch 13/30: train loss=0.9164, test loss=0.9455, test accuracy=0.6695\n",
      "Epoch 14/30: train loss=0.8784, test loss=0.9235, test accuracy=0.6739\n",
      "Epoch 15/30: train loss=0.8354, test loss=0.9039, test accuracy=0.6799\n",
      "Epoch 16/30: train loss=0.8002, test loss=0.8834, test accuracy=0.6924\n",
      "Epoch 17/30: train loss=0.7688, test loss=0.8753, test accuracy=0.6961\n",
      "Epoch 18/30: train loss=0.7355, test loss=0.8474, test accuracy=0.7031\n",
      "Epoch 19/30: train loss=0.7049, test loss=0.8366, test accuracy=0.7099\n",
      "Epoch 20/30: train loss=0.6747, test loss=0.8189, test accuracy=0.7125\n",
      "Epoch 21/30: train loss=0.6423, test loss=0.8350, test accuracy=0.7145\n",
      "Epoch 22/30: train loss=0.6108, test loss=0.7944, test accuracy=0.7254\n",
      "Epoch 23/30: train loss=0.5849, test loss=0.7978, test accuracy=0.7283\n",
      "Epoch 24/30: train loss=0.5561, test loss=0.8077, test accuracy=0.7259\n",
      "Epoch 25/30: train loss=0.5291, test loss=0.8027, test accuracy=0.7250\n",
      "Epoch 26/30: train loss=0.4950, test loss=0.8044, test accuracy=0.7289\n",
      "Epoch 27/30: train loss=0.4694, test loss=0.7973, test accuracy=0.7291\n",
      "Epoch 28/30: train loss=0.4385, test loss=0.8184, test accuracy=0.7321\n",
      "Epoch 29/30: train loss=0.4127, test loss=0.7831, test accuracy=0.7421\n",
      "Epoch 30/30: train loss=0.3880, test loss=0.8397, test accuracy=0.7364\n"
     ]
    }
   ],
   "source": [
    "train_losses = []\n",
    "test_losses = []\n",
    "\n",
    "EPOCHS = 30\n",
    "for epoch in range(EPOCHS):\n",
    "    train_loss = train_model(model, device, trainloader, criterion, optimizer)\n",
    "    test_loss, test_accuracy = test_model(model, device, testloader, criterion)\n",
    "\n",
    "    train_losses.append(train_loss)\n",
    "    test_losses.append(test_loss)\n",
    "\n",
    "    print(f'Epoch {epoch + 1}/{EPOCHS}: train loss={train_loss:.4f}, test loss={test_loss:.4f}, test accuracy={test_accuracy:.4f}')"
   ]
  },
  {
   "cell_type": "code",
   "execution_count": 12,
   "metadata": {},
   "outputs": [
    {
     "data": {
      "image/png": "[encoded data removed]",
      "text/plain": [
       "<Figure size 640x480 with 1 Axes>"
      ]
     },
     "metadata": {},
     "output_type": "display_data"
    }
   ],
   "source": [
    "# plot training and test losses\n",
    "plt.plot(range(1, EPOCHS + 1), train_losses, label='Training loss')\n",
    "plt.plot(range(1, EPOCHS + 1), test_losses, label='Test loss')\n",
    "plt.xlabel('Epoch')\n",
    "plt.ylabel('Loss')\n",
    "# plt.title('training loss and test loss')\n",
    "plt.legend()\n",
    "plt.axis([0, EPOCHS, 0, 2.5])\n",
    "plt.tight_layout()"
   ]
  },
  {
   "cell_type": "code",
   "execution_count": null,
   "metadata": {},
   "outputs": [],
   "source": []
  }
 ],
 "metadata": {
  "kernelspec": {
   "display_name": "ACS",
   "language": "python",
   "name": "python3"
  },
  "language_info": {
   "codemirror_mode": {
    "name": "ipython",
    "version": 3
   },
   "file_extension": ".py",
   "mimetype": "text/x-python",
   "name": "python",
   "nbconvert_exporter": "python",
   "pygments_lexer": "ipython3",
   "version": "3.11.9"
  }
 },
 "nbformat": 4,
 "nbformat_minor": 2
}
